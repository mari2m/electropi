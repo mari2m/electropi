{
 "cells": [
  {
   "cell_type": "code",
   "execution_count": 1,
   "id": "ab4ff43f",
   "metadata": {},
   "outputs": [],
   "source": [
    "def create_board():\n",
    "  board = []\n",
    "  for row in range(3):\n",
    "    board.append([\" \"] * 3)\n",
    "  return board\n"
   ]
  },
  {
   "cell_type": "code",
   "execution_count": 7,
   "id": "ad50441a",
   "metadata": {},
   "outputs": [
    {
     "data": {
      "text/plain": [
       "[[' ', ' ', ' '], [' ', ' ', ' '], [' ', ' ', ' ']]"
      ]
     },
     "execution_count": 7,
     "metadata": {},
     "output_type": "execute_result"
    }
   ],
   "source": [
    "create_board()"
   ]
  },
  {
   "cell_type": "code",
   "execution_count": 8,
   "id": "5255a0e9",
   "metadata": {},
   "outputs": [],
   "source": [
    "def handle_player_move(board, player_symbol):\n",
    "  row = -1\n",
    "  col = -1\n",
    "  while True:\n",
    "    print(\"Player {}'s turn\".format(player_symbol))\n",
    "    row = input(\"Enter row (1-3): \")\n",
    "    col = input(\"Enter column (1-3): \")\n",
    "\n",
    "    if row.isdigit() and col.isdigit():\n",
    "      row = int(row) - 1\n",
    "      col = int(col) - 1\n",
    "\n",
    "      if 0 <= row < 3 and 0 <= col < 3:\n",
    "        if board[row][col] == \" \":\n",
    "          board[row][col] = player_symbol\n",
    "          break\n",
    "\n",
    "    else:\n",
    "      print(\"Invalid input. Please enter a valid row and column (1-3).\")\n"
   ]
  },
  {
   "cell_type": "code",
   "execution_count": 9,
   "id": "b9856440",
   "metadata": {},
   "outputs": [],
   "source": [
    "def check_for_win(board, player_symbol):\n",
    "  for row in range(3):\n",
    "    if board[row][0] == board[row][1] == board[row][2] == player_symbol:\n",
    "      return True\n",
    "\n",
    "  for col in range(3):\n",
    "    if board[0][col] == board[1][col] == board[2][col] == player_symbol:\n",
    "      return True\n",
    "\n",
    "  if board[0][0] == board[1][1] == board[2][2] == player_symbol:\n",
    "    return True\n",
    "\n",
    "  if board[0][2] == board[1][1] == board[2][0] == player_symbol:\n",
    "    return True\n",
    "\n",
    "  return False"
   ]
  },
  {
   "cell_type": "code",
   "execution_count": 10,
   "id": "6df23292",
   "metadata": {},
   "outputs": [],
   "source": [
    "def check_for_tie(board):\n",
    "  for row in board:\n",
    "    for col in row:\n",
    "      if col == \" \":\n",
    "        return False\n",
    "\n",
    "  return True"
   ]
  },
  {
   "cell_type": "code",
   "execution_count": 11,
   "id": "504c1625",
   "metadata": {},
   "outputs": [],
   "source": [
    "def print_board(board):\n",
    "  for row in board:\n",
    "    for col in row:\n",
    "      print(col, end=\" \")\n",
    "    print()\n"
   ]
  },
  {
   "cell_type": "code",
   "execution_count": 12,
   "id": "9eab495d",
   "metadata": {},
   "outputs": [],
   "source": [
    "def main():\n",
    "  board = create_board()\n",
    "  player_symbols = [\"X\", \"O\"]\n",
    "  current_player = player_symbols[0]\n",
    "\n",
    "  while True:\n",
    "    print_board(board)\n",
    "\n",
    "    handle_player_move(board, current_player)\n",
    "\n",
    "    if check_for_win(board, current_player):\n",
    "      print(\"Player {} wins!\".format(current_player))\n",
    "      break\n",
    "\n",
    "    if check_for_tie(board):\n",
    "      print(\"Tie game!\")\n",
    "      break\n",
    "\n",
    "    current_player = player_symbols[current_player == \"X\"]"
   ]
  },
  {
   "cell_type": "code",
   "execution_count": null,
   "id": "346b4116",
   "metadata": {},
   "outputs": [
    {
     "name": "stdout",
     "output_type": "stream",
     "text": [
      "      \n",
      "      \n",
      "      \n",
      "Player X's turn\n"
     ]
    }
   ],
   "source": [
    "main()"
   ]
  },
  {
   "cell_type": "code",
   "execution_count": null,
   "id": "dd72dfce",
   "metadata": {},
   "outputs": [],
   "source": []
  }
 ],
 "metadata": {
  "kernelspec": {
   "display_name": "Python 3 (ipykernel)",
   "language": "python",
   "name": "python3"
  },
  "language_info": {
   "codemirror_mode": {
    "name": "ipython",
    "version": 3
   },
   "file_extension": ".py",
   "mimetype": "text/x-python",
   "name": "python",
   "nbconvert_exporter": "python",
   "pygments_lexer": "ipython3",
   "version": "3.9.13"
  }
 },
 "nbformat": 4,
 "nbformat_minor": 5
}
